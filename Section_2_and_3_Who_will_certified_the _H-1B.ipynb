{
 "cells": [
  {
   "cell_type": "markdown",
   "metadata": {},
   "source": [
    "# Can I get H-1B Visa?\n",
    "\n",
    "## This is the notebook has the possibility to fortune tell your H-1B Application. There are three parts for this notebook\n",
    "\n",
    "1. statistics: It contains some statistic about the ratio of H-1B Application for applicant\n",
    "2. data tansformation: function to transform categorical data to numerical data\n",
    "3. predictive model: randomforest is implemented here to predict the "
   ]
  },
  {
   "cell_type": "code",
   "execution_count": 1,
   "metadata": {
    "collapsed": false
   },
   "outputs": [
    {
     "name": "stderr",
     "output_type": "stream",
     "text": [
      "/Users/Henrilin28/.pyenv/versions/2.7.12/lib/python2.7/site-packages/matplotlib/font_manager.py:273: UserWarning: Matplotlib is building the font cache using fc-list. This may take a moment.\n",
      "  warnings.warn('Matplotlib is building the font cache using fc-list. This may take a moment.')\n",
      "/Users/Henrilin28/.pyenv/versions/2.7.12/lib/python2.7/site-packages/IPython/html.py:14: ShimWarning: The `IPython.html` package has been deprecated. You should import from `notebook` instead. `IPython.html.widgets` has moved to `ipywidgets`.\n",
      "  \"`IPython.html.widgets` has moved to `ipywidgets`.\", ShimWarning)\n"
     ]
    }
   ],
   "source": [
    "import os\n",
    "import sys\n",
    "sys.path.append('src')\n",
    "import seaborn as sns\n",
    "import sklearn as sl\n",
    "import pandas as pd\n",
    "import numpy as np\n",
    "import matplotlib.pyplot as plt\n",
    "from sklearn.preprocessing import LabelEncoder\n",
    "from sklearn import svm\n",
    "from sklearn.ensemble import RandomForestClassifier\n",
    "from sklearn.neighbors import KNeighborsClassifier\n",
    "\n",
    "\n",
    "from cat_data import dummyEncode, plot_cat_info\n",
    "from misc import uni_wage,generate_list\n",
    "#plt.style.use('ggplot')\n",
    "%matplotlib inline "
   ]
  },
  {
   "cell_type": "code",
   "execution_count": 2,
   "metadata": {
    "collapsed": false
   },
   "outputs": [],
   "source": [
    "H1B_data = pd.read_csv('data/enigma-h1b.csv')"
   ]
  },
  {
   "cell_type": "code",
   "execution_count": 3,
   "metadata": {
    "collapsed": false
   },
   "outputs": [
    {
     "name": "stdout",
     "output_type": "stream",
     "text": [
      "<class 'pandas.core.frame.DataFrame'>\n",
      "RangeIndex: 519504 entries, 0 to 519503\n",
      "Data columns (total 36 columns):\n",
      "lca_case_number                   519504 non-null object\n",
      "status                            519504 non-null object\n",
      "lca_case_submit                   519504 non-null object\n",
      "decision_date                     519504 non-null object\n",
      "visa_class                        519504 non-null object\n",
      "lca_case_employment_start_date    519500 non-null object\n",
      "lca_case_employment_end_date      519499 non-null object\n",
      "lca_case_employer_name            519476 non-null object\n",
      "lca_case_employer_address         519462 non-null object\n",
      "lca_case_employer_city            519477 non-null object\n",
      "lca_case_employer_state           519458 non-null object\n",
      "lca_case_employer_postal_code     519463 non-null object\n",
      "lca_case_soc_code                 519455 non-null object\n",
      "lca_case_soc_name                 515233 non-null object\n",
      "lca_case_job_title                519497 non-null object\n",
      "lca_case_wage_rate_from           519468 non-null float64\n",
      "lca_case_wage_rate_to             102932 non-null float64\n",
      "lca_case_wage_rate_unit           519468 non-null object\n",
      "full_time_pos                     519499 non-null object\n",
      "total_workers                     519501 non-null float64\n",
      "lca_case_workloc1_city            519455 non-null object\n",
      "lca_case_workloc1_state           519455 non-null object\n",
      "pw_1                              519420 non-null float64\n",
      "pw_unit_1                         519427 non-null object\n",
      "pw_source_1                       519424 non-null object\n",
      "other_wage_source_1               508091 non-null object\n",
      "yr_source_pub_1                   519420 non-null float64\n",
      "lca_case_workloc2_city            83888 non-null object\n",
      "lca_case_workloc2_state           83906 non-null object\n",
      "pw_2                              83909 non-null float64\n",
      "pw_unit_2                         83910 non-null object\n",
      "pw_source_2                       83908 non-null object\n",
      "other_wage_source_2               82694 non-null object\n",
      "yr_source_pub_2                   82694 non-null object\n",
      "lca_case_naics_code               519479 non-null float64\n",
      "serialid                          519504 non-null int64\n",
      "dtypes: float64(7), int64(1), object(28)\n",
      "memory usage: 142.7+ MB\n"
     ]
    }
   ],
   "source": [
    "H1B_data.info()"
   ]
  },
  {
   "cell_type": "code",
   "execution_count": 4,
   "metadata": {
    "collapsed": false
   },
   "outputs": [
    {
     "data": {
      "text/plain": [
       "array(['lca_case_number', 'status', 'lca_case_submit', 'decision_date',\n",
       "       'visa_class', 'lca_case_employment_start_date',\n",
       "       'lca_case_employment_end_date', 'lca_case_employer_name',\n",
       "       'lca_case_employer_address', 'lca_case_employer_city',\n",
       "       'lca_case_employer_state', 'lca_case_employer_postal_code',\n",
       "       'lca_case_soc_code', 'lca_case_soc_name', 'lca_case_job_title',\n",
       "       'lca_case_wage_rate_from', 'lca_case_wage_rate_to',\n",
       "       'lca_case_wage_rate_unit', 'full_time_pos', 'total_workers',\n",
       "       'lca_case_workloc1_city', 'lca_case_workloc1_state', 'pw_1',\n",
       "       'pw_unit_1', 'pw_source_1', 'other_wage_source_1',\n",
       "       'yr_source_pub_1', 'lca_case_workloc2_city',\n",
       "       'lca_case_workloc2_state', 'pw_2', 'pw_unit_2', 'pw_source_2',\n",
       "       'other_wage_source_2', 'yr_source_pub_2', 'lca_case_naics_code',\n",
       "       'serialid'], dtype=object)"
      ]
     },
     "execution_count": 4,
     "metadata": {},
     "output_type": "execute_result"
    }
   ],
   "source": [
    "H1B_data.columns.values"
   ]
  },
  {
   "cell_type": "code",
   "execution_count": 5,
   "metadata": {
    "collapsed": true
   },
   "outputs": [],
   "source": [
    "H1B_data = H1B_data[H1B_data[\"visa_class\"] ==\"H-1B\"]"
   ]
  },
  {
   "cell_type": "markdown",
   "metadata": {},
   "source": [
    "### Base rate of REJECTED is low and so is withdrawn ."
   ]
  },
  {
   "cell_type": "code",
   "execution_count": 6,
   "metadata": {
    "collapsed": false
   },
   "outputs": [
    {
     "data": {
      "image/png": "[encoded data removed]",
      "text/plain": [
       "<matplotlib.figure.Figure at 0x1178902d0>"
      ]
     },
     "metadata": {},
     "output_type": "display_data"
    }
   ],
   "source": [
    "status = plot_cat_info(H1B_data,'visa_class', 'status',False)"
   ]
  },
  {
   "cell_type": "code",
   "execution_count": 7,
   "metadata": {
    "collapsed": false
   },
   "outputs": [],
   "source": [
    "dfcat = H1B_data[['lca_case_employer_name',\n",
    "       'lca_case_employer_address', 'lca_case_employer_city',\n",
    "       'lca_case_employer_state', 'lca_case_employer_postal_code',\n",
    "       'lca_case_soc_code', 'lca_case_soc_name', 'lca_case_job_title',\n",
    "       'lca_case_wage_rate_unit', 'full_time_pos', \n",
    "        'lca_case_workloc1_city', 'lca_case_workloc1_state']]"
   ]
  },
  {
   "cell_type": "code",
   "execution_count": 16,
   "metadata": {
    "collapsed": false
   },
   "outputs": [],
   "source": [
    "dfcat_dummy = dummyEncode(dfcat.fillna('NA'))"
   ]
  },
  {
   "cell_type": "code",
   "execution_count": 17,
   "metadata": {
    "collapsed": false
   },
   "outputs": [],
   "source": [
    "data = pd.concat([dfcat_dummy,H1B_data[['lca_case_wage_rate_from', 'lca_case_wage_rate_to', 'total_workers','status']]],axis=1)"
   ]
  },
  {
   "cell_type": "code",
   "execution_count": 27,
   "metadata": {
    "collapsed": false
   },
   "outputs": [
    {
     "name": "stdout",
     "output_type": "stream",
     "text": [
      "<class 'pandas.core.frame.DataFrame'>\n",
      "Int64Index: 508676 entries, 0 to 508675\n",
      "Data columns (total 17 columns):\n",
      "lca_case_employer_name           508676 non-null int64\n",
      "lca_case_employer_address        508676 non-null int64\n",
      "lca_case_employer_city           508676 non-null int64\n",
      "lca_case_employer_state          508676 non-null int64\n",
      "lca_case_employer_postal_code    508676 non-null int64\n",
      "lca_case_soc_code                508676 non-null int64\n",
      "lca_case_soc_name                508676 non-null int64\n",
      "lca_case_job_title               508676 non-null int64\n",
      "lca_case_wage_rate_unit          508676 non-null int64\n",
      "full_time_pos                    508676 non-null int64\n",
      "lca_case_workloc1_city           508676 non-null int64\n",
      "lca_case_workloc1_state          508676 non-null int64\n",
      "lca_case_wage_rate_from          508676 non-null float64\n",
      "lca_case_wage_rate_to            508676 non-null float64\n",
      "total_workers                    508676 non-null float64\n",
      "status                           508676 non-null object\n",
      "certified                        508676 non-null int64\n",
      "dtypes: float64(3), int64(13), object(1)\n",
      "memory usage: 69.9+ MB\n"
     ]
    }
   ],
   "source": [
    "data = data.fillna(0)\n",
    "data.info()"
   ]
  },
  {
   "cell_type": "code",
   "execution_count": 28,
   "metadata": {
    "collapsed": true
   },
   "outputs": [],
   "source": [
    "def binary(x):\n",
    "    if x==\"CERTIFIED\":\n",
    "        return 1 \n",
    "    else:\n",
    "        return 0\n",
    "    \n",
    "data['certified'] = data[\"status\"].map(binary)"
   ]
  },
  {
   "cell_type": "code",
   "execution_count": 29,
   "metadata": {
    "collapsed": false
   },
   "outputs": [
    {
     "data": {
      "text/html": [
       "<div>\n",
       "<table border=\"1\" class=\"dataframe\">\n",
       "  <thead>\n",
       "    <tr style=\"text-align: right;\">\n",
       "      <th></th>\n",
       "      <th>lca_case_employer_name</th>\n",
       "      <th>lca_case_employer_address</th>\n",
       "      <th>lca_case_employer_city</th>\n",
       "      <th>lca_case_employer_state</th>\n",
       "      <th>lca_case_employer_postal_code</th>\n",
       "      <th>lca_case_soc_code</th>\n",
       "      <th>lca_case_soc_name</th>\n",
       "      <th>lca_case_job_title</th>\n",
       "      <th>lca_case_wage_rate_unit</th>\n",
       "      <th>full_time_pos</th>\n",
       "      <th>lca_case_workloc1_city</th>\n",
       "      <th>lca_case_workloc1_state</th>\n",
       "      <th>lca_case_wage_rate_from</th>\n",
       "      <th>lca_case_wage_rate_to</th>\n",
       "      <th>total_workers</th>\n",
       "      <th>status</th>\n",
       "      <th>certified</th>\n",
       "      <th>is_train</th>\n",
       "    </tr>\n",
       "  </thead>\n",
       "  <tbody>\n",
       "    <tr>\n",
       "      <th>354543</th>\n",
       "      <td>54719</td>\n",
       "      <td>53088</td>\n",
       "      <td>4013</td>\n",
       "      <td>5</td>\n",
       "      <td>10604</td>\n",
       "      <td>209</td>\n",
       "      <td>164</td>\n",
       "      <td>51290</td>\n",
       "      <td>5</td>\n",
       "      <td>2</td>\n",
       "      <td>458</td>\n",
       "      <td>48</td>\n",
       "      <td>93198.00</td>\n",
       "      <td>NaN</td>\n",
       "      <td>1.0</td>\n",
       "      <td>CERTIFIED</td>\n",
       "      <td>1</td>\n",
       "      <td>True</td>\n",
       "    </tr>\n",
       "    <tr>\n",
       "      <th>150627</th>\n",
       "      <td>54366</td>\n",
       "      <td>16536</td>\n",
       "      <td>3132</td>\n",
       "      <td>37</td>\n",
       "      <td>197</td>\n",
       "      <td>279</td>\n",
       "      <td>32</td>\n",
       "      <td>3100</td>\n",
       "      <td>2</td>\n",
       "      <td>1</td>\n",
       "      <td>4929</td>\n",
       "      <td>38</td>\n",
       "      <td>25.64</td>\n",
       "      <td>NaN</td>\n",
       "      <td>1.0</td>\n",
       "      <td>CERTIFIED</td>\n",
       "      <td>1</td>\n",
       "      <td>True</td>\n",
       "    </tr>\n",
       "    <tr>\n",
       "      <th>306222</th>\n",
       "      <td>28289</td>\n",
       "      <td>13606</td>\n",
       "      <td>2388</td>\n",
       "      <td>52</td>\n",
       "      <td>11012</td>\n",
       "      <td>466</td>\n",
       "      <td>62</td>\n",
       "      <td>30151</td>\n",
       "      <td>5</td>\n",
       "      <td>2</td>\n",
       "      <td>4038</td>\n",
       "      <td>5</td>\n",
       "      <td>38500.00</td>\n",
       "      <td>NaN</td>\n",
       "      <td>1.0</td>\n",
       "      <td>CERTIFIED</td>\n",
       "      <td>1</td>\n",
       "      <td>True</td>\n",
       "    </tr>\n",
       "    <tr>\n",
       "      <th>474595</th>\n",
       "      <td>24687</td>\n",
       "      <td>46568</td>\n",
       "      <td>1202</td>\n",
       "      <td>38</td>\n",
       "      <td>4445</td>\n",
       "      <td>202</td>\n",
       "      <td>515</td>\n",
       "      <td>43751</td>\n",
       "      <td>5</td>\n",
       "      <td>2</td>\n",
       "      <td>6280</td>\n",
       "      <td>5</td>\n",
       "      <td>94200.00</td>\n",
       "      <td>105500.0</td>\n",
       "      <td>1.0</td>\n",
       "      <td>CERTIFIED</td>\n",
       "      <td>1</td>\n",
       "      <td>False</td>\n",
       "    </tr>\n",
       "    <tr>\n",
       "      <th>443609</th>\n",
       "      <td>23027</td>\n",
       "      <td>41964</td>\n",
       "      <td>1326</td>\n",
       "      <td>34</td>\n",
       "      <td>9381</td>\n",
       "      <td>192</td>\n",
       "      <td>136</td>\n",
       "      <td>43588</td>\n",
       "      <td>5</td>\n",
       "      <td>2</td>\n",
       "      <td>3401</td>\n",
       "      <td>48</td>\n",
       "      <td>60000.00</td>\n",
       "      <td>NaN</td>\n",
       "      <td>1.0</td>\n",
       "      <td>CERTIFIED</td>\n",
       "      <td>1</td>\n",
       "      <td>False</td>\n",
       "    </tr>\n",
       "  </tbody>\n",
       "</table>\n",
       "</div>"
      ],
      "text/plain": [
       "        lca_case_employer_name  lca_case_employer_address  \\\n",
       "354543                   54719                      53088   \n",
       "150627                   54366                      16536   \n",
       "306222                   28289                      13606   \n",
       "474595                   24687                      46568   \n",
       "443609                   23027                      41964   \n",
       "\n",
       "        lca_case_employer_city  lca_case_employer_state  \\\n",
       "354543                    4013                        5   \n",
       "150627                    3132                       37   \n",
       "306222                    2388                       52   \n",
       "474595                    1202                       38   \n",
       "443609                    1326                       34   \n",
       "\n",
       "        lca_case_employer_postal_code  lca_case_soc_code  lca_case_soc_name  \\\n",
       "354543                          10604                209                164   \n",
       "150627                            197                279                 32   \n",
       "306222                          11012                466                 62   \n",
       "474595                           4445                202                515   \n",
       "443609                           9381                192                136   \n",
       "\n",
       "        lca_case_job_title  lca_case_wage_rate_unit  full_time_pos  \\\n",
       "354543               51290                        5              2   \n",
       "150627                3100                        2              1   \n",
       "306222               30151                        5              2   \n",
       "474595               43751                        5              2   \n",
       "443609               43588                        5              2   \n",
       "\n",
       "        lca_case_workloc1_city  lca_case_workloc1_state  \\\n",
       "354543                     458                       48   \n",
       "150627                    4929                       38   \n",
       "306222                    4038                        5   \n",
       "474595                    6280                        5   \n",
       "443609                    3401                       48   \n",
       "\n",
       "        lca_case_wage_rate_from  lca_case_wage_rate_to  total_workers  \\\n",
       "354543                 93198.00                    NaN            1.0   \n",
       "150627                    25.64                    NaN            1.0   \n",
       "306222                 38500.00                    NaN            1.0   \n",
       "474595                 94200.00               105500.0            1.0   \n",
       "443609                 60000.00                    NaN            1.0   \n",
       "\n",
       "           status  certified is_train  \n",
       "354543  CERTIFIED          1     True  \n",
       "150627  CERTIFIED          1     True  \n",
       "306222  CERTIFIED          1     True  \n",
       "474595  CERTIFIED          1    False  \n",
       "443609  CERTIFIED          1    False  "
      ]
     },
     "execution_count": 29,
     "metadata": {},
     "output_type": "execute_result"
    }
   ],
   "source": [
    "data_ml.head(5)"
   ]
  },
  {
   "cell_type": "code",
   "execution_count": null,
   "metadata": {
    "collapsed": false
   },
   "outputs": [],
   "source": [
    "from sklearn.preprocessing import StandardScaler\n",
    "from sklearn.feature_extraction import DictVectorizer as DV\n",
    "\n",
    "\n",
    "data_ml = data\n",
    "data_ml['is_train'] = np.random.uniform(0, 1, len(data_ml)) <= .75\n",
    "train, test = data_ml[data_ml['is_train']==True], data_ml[data_ml['is_train']==False]\n",
    "\n",
    "\n",
    "\n",
    "\n",
    "idx = ['is_train',\"status\",\"certified\"]\n",
    "features = [i for j, i in enumerate(list(data.columns.values)) if i not in idx]\n",
    "\n",
    "vectorizer = DV( sparse = False )\n",
    "vec_train = vectorizer.fit_transform( train[features].to_dict( orient = 'records') )\n",
    "vec_test = vectorizer.transform( test[features].to_dict( orient = 'records') ) \n",
    "\n",
    "\n",
    "neigh = KNeighborsClassifier(n_neighbors=3)\n",
    "rf = RandomForestClassifier(n_jobs=100)\n",
    "sv = svm.SVC()\n",
    "\n",
    "classifier = [neigh, rf, sv]\n",
    "\n",
    "score = []\n",
    "\n",
    "for clf in classifier:\n",
    "    y, _ = pd.factorize(train['certified'])\n",
    "    clf.fit(vec_train, y)\n",
    "\n",
    "    preds = sv.predict(vec_test)\n",
    "    metrics = pd.crosstab(test['certified'], preds, rownames=['actual'], colnames=['preds'])\n",
    "    score = (metrics[0][0] + metrics[1][1]) / float(metrics.values.sum())\n",
    "print max(score)"
   ]
  },
  {
   "cell_type": "code",
   "execution_count": null,
   "metadata": {
    "collapsed": true
   },
   "outputs": [],
   "source": []
  }
 ],
 "metadata": {
  "kernelspec": {
   "display_name": "Python 2",
   "language": "python",
   "name": "python2"
  },
  "language_info": {
   "codemirror_mode": {
    "name": "ipython",
    "version": 2
   },
   "file_extension": ".py",
   "mimetype": "text/x-python",
   "name": "python",
   "nbconvert_exporter": "python",
   "pygments_lexer": "ipython2",
   "version": "2.7.12"
  }
 },
 "nbformat": 4,
 "nbformat_minor": 1
}
