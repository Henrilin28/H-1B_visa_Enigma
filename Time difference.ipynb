{
 "cells": [
  {
   "cell_type": "code",
   "execution_count": 1,
   "metadata": {
    "collapsed": false
   },
   "outputs": [
    {
     "name": "stderr",
     "output_type": "stream",
     "text": [
      "/Users/Henrilin28/.pyenv/versions/2.7.8/envs/virtual_2.7/lib/python2.7/site-packages/matplotlib/font_manager.py:273: UserWarning: Matplotlib is building the font cache using fc-list. This may take a moment.\n",
      "  warnings.warn('Matplotlib is building the font cache using fc-list. This may take a moment.')\n"
     ]
    }
   ],
   "source": [
    "import os\n",
    "import seaborn as sns\n",
    "import sklearn as sl\n",
    "import pandas as pd\n",
    "import numpy as np\n",
    "import matplotlib.pyplot as plt\n",
    "from sklearn.preprocessing import LabelEncoder\n",
    "from sklearn import svm\n",
    "from sklearn.ensemble import RandomForestClassifier\n",
    "\n",
    "from cat_data import dummyEncode, plot_cat_info\n",
    "from misc import uni_wage,generate_list\n",
    "#plt.style.use('ggplot')\n",
    "%matplotlib inline "
   ]
  },
  {
   "cell_type": "code",
   "execution_count": 2,
   "metadata": {
    "collapsed": true
   },
   "outputs": [],
   "source": [
    "H1B_data = pd.read_csv('enigma-h1b.csv')\n",
    "H1B_data = H1B_data[H1B_data[\"visa_class\"] ==\"H-1B\"]"
   ]
  },
  {
   "cell_type": "code",
   "execution_count": 38,
   "metadata": {
    "collapsed": false
   },
   "outputs": [
    {
     "name": "stdout",
     "output_type": "stream",
     "text": [
      "<class 'pandas.core.frame.DataFrame'>\n",
      "Int64Index: 508676 entries, 0 to 508675\n",
      "Data columns (total 36 columns):\n",
      "lca_case_number                   508676 non-null object\n",
      "status                            508676 non-null object\n",
      "lca_case_submit                   508676 non-null object\n",
      "decision_date                     508676 non-null object\n",
      "visa_class                        508676 non-null object\n",
      "lca_case_employment_start_date    508672 non-null object\n",
      "lca_case_employment_end_date      508671 non-null object\n",
      "lca_case_employer_name            508649 non-null object\n",
      "lca_case_employer_address         508636 non-null object\n",
      "lca_case_employer_city            508650 non-null object\n",
      "lca_case_employer_state           508637 non-null object\n",
      "lca_case_employer_postal_code     508637 non-null object\n",
      "lca_case_soc_code                 508636 non-null object\n",
      "lca_case_soc_name                 504458 non-null object\n",
      "lca_case_job_title                508669 non-null object\n",
      "lca_case_wage_rate_from           508641 non-null float64\n",
      "lca_case_wage_rate_to             100405 non-null float64\n",
      "lca_case_wage_rate_unit           508641 non-null object\n",
      "full_time_pos                     508671 non-null object\n",
      "total_workers                     508673 non-null float64\n",
      "lca_case_workloc1_city            508629 non-null object\n",
      "lca_case_workloc1_state           508630 non-null object\n",
      "pw_1                              508609 non-null float64\n",
      "pw_unit_1                         508614 non-null object\n",
      "pw_source_1                       508609 non-null object\n",
      "other_wage_source_1               497868 non-null object\n",
      "yr_source_pub_1                   508607 non-null float64\n",
      "lca_case_workloc2_city            83157 non-null object\n",
      "lca_case_workloc2_state           83174 non-null object\n",
      "pw_2                              83177 non-null float64\n",
      "pw_unit_2                         83178 non-null object\n",
      "pw_source_2                       83176 non-null object\n",
      "other_wage_source_2               81985 non-null object\n",
      "yr_source_pub_2                   81985 non-null object\n",
      "lca_case_naics_code               508652 non-null float64\n",
      "serialid                          508676 non-null int64\n",
      "dtypes: float64(7), int64(1), object(28)\n",
      "memory usage: 143.6+ MB\n"
     ]
    }
   ],
   "source": [
    "H1B_data.info()"
   ]
  },
  {
   "cell_type": "code",
   "execution_count": 27,
   "metadata": {
    "collapsed": false
   },
   "outputs": [],
   "source": [
    "\n",
    "time_h1b = H1B_data[[\"lca_case_submit\",\"decision_date\"]]\n",
    "diff_ = (pd.to_datetime(time_h1b[\"decision_date\"])-\n",
    "                     pd.to_datetime(time_h1b[\"lca_case_submit\"])\n",
    "                    ).astype('timedelta64[D]')\n"
   ]
  },
  {
   "cell_type": "code",
   "execution_count": 29,
   "metadata": {
    "collapsed": false
   },
   "outputs": [
    {
     "data": {
      "text/plain": [
       "(0, 2]         0.007504\n",
       "(2, 5]         0.166662\n",
       "(5, 10]        0.717651\n",
       "(10, 15]       0.010761\n",
       "(15, 20]       0.001986\n",
       "(20, 10000]    0.084195\n",
       "dtype: float64"
      ]
     },
     "execution_count": 29,
     "metadata": {},
     "output_type": "execute_result"
    }
   ],
   "source": [
    "pd.cut(diff_, [0,2,5,10,15,20,10000]).value_counts().sort_index()/len(diff_)"
   ]
  },
  {
   "cell_type": "code",
   "execution_count": 25,
   "metadata": {
    "collapsed": false
   },
   "outputs": [
    {
     "data": {
      "text/plain": [
       "<matplotlib.text.Text at 0x11b8ec550>"
      ]
     },
     "execution_count": 25,
     "metadata": {},
     "output_type": "execute_result"
    },
    {
     "data": {
      "image/png": "[encoded data removed]",
      "text/plain": [
       "<matplotlib.figure.Figure at 0x1188b9850>"
      ]
     },
     "metadata": {},
     "output_type": "display_data"
    }
   ],
   "source": [
    "diff_.plot(kind=\"hist\",bins= range(int(min(diff_)), 200 + 20, 20),label=\"waiting time\")\n",
    "plt.xlabel(\"waiting time(days)\")\n",
    "plt.title(\"number of application\")"
   ]
  },
  {
   "cell_type": "code",
   "execution_count": 45,
   "metadata": {
    "collapsed": false
   },
   "outputs": [],
   "source": [
    "waiting_ratio = diff_/len(diff_)"
   ]
  },
  {
   "cell_type": "markdown",
   "metadata": {},
   "source": [
    "Most of the applications waiting time are within 10 days"
   ]
  },
  {
   "cell_type": "code",
   "execution_count": 48,
   "metadata": {
    "collapsed": true
   },
   "outputs": [],
   "source": [
    "time_h1b = H1B_data[[\"lca_case_employment_start_date\",\"lca_case_employment_end_date\"]]\n",
    "diff_ = (pd.to_datetime(time_h1b[\"lca_case_employment_end_date\"])-\n",
    "                     pd.to_datetime(time_h1b[\"lca_case_employment_start_date\"])\n",
    "                    ).astype('timedelta64[Y]')"
   ]
  },
  {
   "cell_type": "code",
   "execution_count": 52,
   "metadata": {
    "collapsed": false
   },
   "outputs": [
    {
     "data": {
      "text/plain": [
       "(0, 2]       0.710063\n",
       "(2, 5]       0.258027\n",
       "(5, 10]      0.000000\n",
       "(10, 15]     0.000000\n",
       "(15, 20]     0.000000\n",
       "(20, 100]    0.000000\n",
       "dtype: float64"
      ]
     },
     "execution_count": 52,
     "metadata": {},
     "output_type": "execute_result"
    }
   ],
   "source": [
    "pd.cut(diff_, [0,2,5,10,15,20,100]).value_counts().sort_index()/len(diff_)"
   ]
  },
  {
   "cell_type": "markdown",
   "metadata": {},
   "source": [
    "From the above statistic, most of the applicants have the chance to apply in 2 years. Also, there are no applicants who need visa greter than five years."
   ]
  },
  {
   "cell_type": "code",
   "execution_count": 58,
   "metadata": {
    "collapsed": false
   },
   "outputs": [
    {
     "data": {
      "text/plain": [
       "(0, 5)"
      ]
     },
     "execution_count": 58,
     "metadata": {},
     "output_type": "execute_result"
    },
    {
     "data": {
      "image/png": "[encoded data removed]",
      "text/plain": [
       "<matplotlib.figure.Figure at 0x11ec1ccd0>"
      ]
     },
     "metadata": {},
     "output_type": "display_data"
    }
   ],
   "source": [
    "diff_.plot(kind=\"hist\",bins= range(int(min(diff_)), 10 + 1, 1),label=\"waiting time\")\n",
    "plt.xlabel(\"Work time (year)\")\n",
    "plt.ylabel(\"number of application\")\n",
    "plt.xlim(0,5)"
   ]
  },
  {
   "cell_type": "code",
   "execution_count": null,
   "metadata": {
    "collapsed": true
   },
   "outputs": [],
   "source": [
    "|"
   ]
  }
 ],
 "metadata": {
  "kernelspec": {
   "display_name": "Python 2",
   "language": "python",
   "name": "python2"
  },
  "language_info": {
   "codemirror_mode": {
    "name": "ipython",
    "version": 2
   },
   "file_extension": ".py",
   "mimetype": "text/x-python",
   "name": "python",
   "nbconvert_exporter": "python",
   "pygments_lexer": "ipython2",
   "version": "2.7.8"
  }
 },
 "nbformat": 4,
 "nbformat_minor": 1
}
